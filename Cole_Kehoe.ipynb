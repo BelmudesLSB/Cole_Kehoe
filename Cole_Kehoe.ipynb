{
 "cells": [
  {
   "cell_type": "code",
   "execution_count": 1,
   "metadata": {},
   "outputs": [],
   "source": [
    "# This is a solution for problem set 4, Monetary Economics, University Of Minnesota 05/02/2023"
   ]
  },
  {
   "cell_type": "code",
   "execution_count": 2,
   "metadata": {},
   "outputs": [],
   "source": [
    "import numpy as np"
   ]
  },
  {
   "cell_type": "code",
   "execution_count": 30,
   "metadata": {},
   "outputs": [],
   "source": [
    "# Parameters of the model:\n",
    "\n",
    "β = 0.96\n",
    "R = 1/β \n",
    "ϕ = 0.2\n",
    "y = 1\n",
    "π = 0.5\n",
    "γ = 2\n",
    "b_min = -0.1\n",
    "b_max = 3\n",
    "b_size = 100\n",
    "b_grid = np.linspace(b_min, b_max, b_size)\n",
    "\n",
    "\n",
    "def u(c):                                               # Utiltiy function.\n",
    "    return c**(1-γ)/(1-γ)\n",
    "\n",
    "v_d = (1/(1-β)) * u(y-ϕ)                                # Value of default.\n",
    "v_0 = (1/(1-β)) * u(y)                                  # Value of no debt. \n",
    "\n",
    "def v_rm(b):                                            # Value of repayment in the bad sp.\n",
    "    return u(y-b) + β * v_0\n",
    "\n",
    "b_m = np.argmax((v_rm(b_grid)- v_d)<=0)                 # b-, index value of default under bad sp. "
   ]
  },
  {
   "cell_type": "code",
   "execution_count": 13,
   "metadata": {},
   "outputs": [],
   "source": [
    "# Guess:\n",
    "\n",
    "v = u(y-b_grid)                                         # Guess value function.   \n",
    "q = 1/R * np.ones(b_size)                               # Price function.\n",
    "v_rp = u(y-b_grid)                                      # Guess value of repayment in the good sp."
   ]
  },
  {
   "cell_type": "code",
   "execution_count": 34,
   "metadata": {},
   "outputs": [],
   "source": [
    "# Create update functions:\n",
    "\n",
    "### Given v_rp_0 and q_0 find v_p_1:\n",
    "\n",
    "def update_vrp(v_rp_0, q_0):\n",
    "    v_rp1 = np.empty_like(v_rp_0)                       # Allocate memory.\n",
    "    for b in range(b_size):\n",
    "        v_rp1[b] = np.max( u(y-b+b_grid*q_0) + β * (π*v_rp_0+(1-π)*v_rm(b_size)) )\n",
    "    b_p = np.argmax((v_rp1 - v_d)<=0)                   # b+, index value of default under good sp.  \n",
    "    return v_rp1, b_p\n",
    "\n",
    "### Given v_p_1 find d_1:\n",
    "\n",
    "def update_d(v_rp1, b_p):\n",
    "    d_1 = np.empty_like(b_grid)\n",
    "    for b in range(b_size):\n",
    "        d_1[b] = lambda b: 1 if b>b_p else (0.5 if b_p>=b>b_m else 0)\n",
    "    \n",
    "\n",
    "\n",
    "### Given d_1 update q_1: \n"
   ]
  },
  {
   "cell_type": "code",
   "execution_count": 37,
   "metadata": {},
   "outputs": [
    {
     "data": {
      "text/plain": [
       "0"
      ]
     },
     "execution_count": 37,
     "metadata": {},
     "output_type": "execute_result"
    }
   ],
   "source": [
    "# Testing functions:\n",
    "update_vrp(v_rp, q)[1]\n",
    "#update_vrp(v_rp, q)\n",
    "#update_d(update_vrp(v_rp, q)[0], update_vrp(v_rp, q)[1])\n",
    "\n"
   ]
  }
 ],
 "metadata": {
  "kernelspec": {
   "display_name": "Python 3",
   "language": "python",
   "name": "python3"
  },
  "language_info": {
   "codemirror_mode": {
    "name": "ipython",
    "version": 3
   },
   "file_extension": ".py",
   "mimetype": "text/x-python",
   "name": "python",
   "nbconvert_exporter": "python",
   "pygments_lexer": "ipython3",
   "version": "3.10.11"
  },
  "orig_nbformat": 4
 },
 "nbformat": 4,
 "nbformat_minor": 2
}
