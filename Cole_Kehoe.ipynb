{
 "cells": [
  {
   "cell_type": "code",
   "execution_count": 56,
   "metadata": {},
   "outputs": [],
   "source": [
    "# This is a solution for problem set 4, Monetary Economics, University Of Minnesota 05/02/2023"
   ]
  },
  {
   "cell_type": "code",
   "execution_count": 57,
   "metadata": {},
   "outputs": [],
   "source": [
    "import numpy as np\n",
    "import matplotlib.pyplot as plt"
   ]
  },
  {
   "cell_type": "code",
   "execution_count": 58,
   "metadata": {},
   "outputs": [],
   "source": [
    "# Parameters of the model:\n",
    "\n",
    "β = 0.96\n",
    "R = 1/β \n",
    "ϕ = 0.2\n",
    "y = 1\n",
    "π = 0.5\n",
    "γ = 2\n",
    "b_min = 0\n",
    "b_max = 0.9\n",
    "b_size = 400\n",
    "b_grid = np.linspace(b_min, b_max, b_size)\n",
    "\n",
    "\n",
    "def u(c):                                               # Utiltiy function.\n",
    "    return c**(1-γ)/(1-γ)\n",
    "\n",
    "v_d = (1/(1-β)) * u(y-ϕ)                                # Value of default.\n",
    "v_0 = (1/(1-β)) * u(y)                                  # Value of no debt. \n",
    "\n",
    "def v_rm(b):                                            # Value of repayment in the bad sp.\n",
    "    return u(y - b) + β * v_0\n",
    "\n",
    "b_m = np.argmax((v_rm(b_grid)- v_d)<=0)                 # b-, index value of default under bad sp. "
   ]
  },
  {
   "cell_type": "code",
   "execution_count": 59,
   "metadata": {},
   "outputs": [],
   "source": [
    "# Guess:\n",
    "\n",
    "q = 1/R * np.ones(b_size)                               # Price function.\n",
    "v_rp = (1/(1-β)) * u(y-b_grid)                                      # Guess value of repayment in the good sp."
   ]
  },
  {
   "cell_type": "code",
   "execution_count": 60,
   "metadata": {},
   "outputs": [],
   "source": [
    "# Create update functions:\n",
    "\n",
    "### Given v_rp_0 and q_0 find v_p_1:\n",
    "\n",
    "def update_vrp(v_rp_0, q_0):\n",
    "    v_rp1 = np.empty_like(v_rp_0)                       # Allocate memory.\n",
    "    for b in range(b_size):\n",
    "        v_rp1[b] = np.max(u(y-b_grid[b]+b_grid*q_0) + β * (π*v_rp_0+(1-π)*v_rm(b_grid)) )\n",
    "    # update b_+:\n",
    "    for b in range(b_size):\n",
    "        if v_rp1[b] - v_d <=0:\n",
    "            b_p = b\n",
    "            break\n",
    "        else:\n",
    "            b_p = b_size \n",
    "    return v_rp1, b_p\n",
    "\n",
    "### Given v_p_1 find E[d_1] as a function of bond holding for next period:\n",
    "\n",
    "def update_Ed(v_rp1, b_p):\n",
    "    Ed = np.empty_like(b_grid)\n",
    "    update = lambda b: 0 if b_m >= b else ((1-π) if b_p >= b > b_m else 1)\n",
    "    for b in range(b_size):\n",
    "        Ed[b] = update(b)\n",
    "    return Ed \n",
    "\n",
    "### Given d_1 update q_1: \n",
    "\n",
    "def update_q(Ed):\n",
    "    q_1 = 1/R * (1 - Ed)\n",
    "    return q_1"
   ]
  },
  {
   "cell_type": "markdown",
   "metadata": {},
   "source": []
  },
  {
   "cell_type": "code",
   "execution_count": 61,
   "metadata": {},
   "outputs": [
    {
     "name": "stdout",
     "output_type": "stream",
     "text": [
      "0 219.7030586699636 0.48 10\n",
      "1 3.632779269426038 0.0 10\n",
      "1 0.13795552267897548 0.0 10\n",
      "1 0.013414391566669792 0.0 10\n",
      "1 0.0017571623597021357 0.0 10\n",
      "1 0.00026085230015837624 0.0 10\n",
      "1 4.147389981312699e-05 0.0 10\n",
      "1 6.806225602673521e-06 0.0 10\n",
      "1 1.1291967716431373e-06 0.0 10\n",
      "1 1.8157987824451993e-07 0.0 10\n",
      "1 3.0479448298592615e-08 0.0 10\n",
      "1 6.513548811426517e-09 0.0 10\n",
      "1 6.10356210017926e-11 0.0 10\n"
     ]
    }
   ],
   "source": [
    "# Iterate until convergence:\n",
    "iter = 0 \n",
    "error_1 = 10\n",
    "error_2 = 10\n",
    "error_3 = 10\n",
    "α_q = 1\n",
    "α_vrp = 1 \n",
    "\n",
    "while error_1 > 10e-10 or error_2 > 10e-10:\n",
    "    v_rp_1 = update_vrp(v_rp, q)[0]\n",
    "    b_p = update_vrp(v_rp, q)[1]\n",
    "    E_d = update_Ed(v_rp_1, b_p)\n",
    "    q_1 = update_q(E_d)\n",
    "    error_1 = np.max(np.abs(v_rp - v_rp_1))\n",
    "    error_2 = np.max(np.abs(q_1 - q))\n",
    "    # update:\n",
    "    v_rp = α_vrp * v_rp_1.copy() + (1-α_vrp) * v_rp.copy()\n",
    "    q = α_q *q_1.copy() + (1-α_q) * q.copy()\n",
    "    print(iter, error_1, error_2, error_3)\n",
    "    iter =+ 1\n",
    "    if iter>3000:\n",
    "        break"
   ]
  },
  {
   "cell_type": "code",
   "execution_count": 62,
   "metadata": {},
   "outputs": [
    {
     "data": {
      "text/plain": [
       "(383, 400)"
      ]
     },
     "execution_count": 62,
     "metadata": {},
     "output_type": "execute_result"
    }
   ],
   "source": [
    "b_m, b_p"
   ]
  },
  {
   "cell_type": "code",
   "execution_count": 63,
   "metadata": {},
   "outputs": [
    {
     "data": {
      "text/plain": [
       "<function matplotlib.pyplot.show(close=None, block=None)>"
      ]
     },
     "execution_count": 63,
     "metadata": {},
     "output_type": "execute_result"
    },
    {
     "data": {
      "image/png": "[encoded data removed]",
      "text/plain": [
       "<Figure size 640x480 with 1 Axes>"
      ]
     },
     "metadata": {},
     "output_type": "display_data"
    }
   ],
   "source": [
    "plt.plot(b_grid, v_rp)\n",
    "plt.plot(b_grid, v_d * np.ones(b_size))\n",
    "plt.plot(b_grid, v_rm(b_grid))\n",
    "plt.ylim([-60,-10])\n",
    "plt.show\n"
   ]
  }
 ],
 "metadata": {
  "kernelspec": {
   "display_name": "Python 3",
   "language": "python",
   "name": "python3"
  },
  "language_info": {
   "codemirror_mode": {
    "name": "ipython",
    "version": 3
   },
   "file_extension": ".py",
   "mimetype": "text/x-python",
   "name": "python",
   "nbconvert_exporter": "python",
   "pygments_lexer": "ipython3",
   "version": "3.10.11"
  },
  "orig_nbformat": 4
 },
 "nbformat": 4,
 "nbformat_minor": 2
}
