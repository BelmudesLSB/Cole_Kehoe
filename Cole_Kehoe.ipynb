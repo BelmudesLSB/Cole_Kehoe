{
 "cells": [
  {
   "cell_type": "code",
   "execution_count": 1,
   "metadata": {},
   "outputs": [],
   "source": [
    "# This is a solution for problem set 4, Monetary Economics, University Of Minnesota 05/02/2023"
   ]
  },
  {
   "cell_type": "code",
   "execution_count": 2,
   "metadata": {},
   "outputs": [],
   "source": [
    "import numpy as np\n",
    "import matplotlib.pyplot as plt"
   ]
  },
  {
   "cell_type": "code",
   "execution_count": 3,
   "metadata": {},
   "outputs": [],
   "source": [
    "# Parameters of the model:\n",
    "\n",
    "β = 0.96\n",
    "R = 1/β \n",
    "ϕ = 0.2\n",
    "y = 1\n",
    "π = 0.5\n",
    "γ = 5\n",
    "b_min = 0\n",
    "b_max = 0.9\n",
    "b_size = 1000\n",
    "b_grid = np.linspace(b_min, b_max, b_size)\n",
    "\n",
    "\n",
    "def u(c):                                               # Utiltiy function.\n",
    "    return c**(1-γ)/(1-γ)\n",
    "\n",
    "v_d = (1/(1-β)) * u(y-ϕ)                                # Value of default.\n",
    "v_0 = (1/(1-β)) * u(y)                                  # Value of no debt. \n",
    "\n",
    "def v_rm(b):                                            # Value of repayment in the bad sp.\n",
    "    return u(y - b) + β * v_0\n",
    "\n",
    "b_m = np.argmax((v_rm(b_grid)- v_d)<=0)                 # b-, index value of default under bad sp. "
   ]
  },
  {
   "cell_type": "code",
   "execution_count": 4,
   "metadata": {},
   "outputs": [],
   "source": [
    "# Guess:\n",
    "\n",
    "q = 1/R * np.ones(b_size)                               # Price function.\n",
    "v_rp = (1/(1-β)) * u(y-b_grid)                                      # Guess value of repayment in the good sp."
   ]
  },
  {
   "cell_type": "code",
   "execution_count": 5,
   "metadata": {},
   "outputs": [],
   "source": [
    "# Create update functions:\n",
    "\n",
    "### Given v_rp_0 and q_0 find v_p_1:\n",
    "\n",
    "def update_vrp(v_rp_0, q_0):\n",
    "    v_rp1 = np.empty_like(v_rp_0)                       # Allocate memory.\n",
    "    for b in range(b_size):\n",
    "        v_rp1[b] = np.max( u(y-b_grid[b]+b_grid*q_0) + β * (π*v_rp_0+(1-π)*v_rm(b_size)) )\n",
    "    # update b_+:\n",
    "    for b in range(b_size):\n",
    "        if v_rp1[b] - v_d <=0:\n",
    "            b_p = b\n",
    "            break\n",
    "        else:\n",
    "            b_p = b_size \n",
    "    return v_rp1, b_p\n",
    "\n",
    "### Given v_p_1 find E[d_1] as a function of bond holding for next period:\n",
    "\n",
    "def update_Ed(v_rp1, b_p):\n",
    "    Ed = np.empty_like(b_grid)\n",
    "    update = lambda b: 0 if b_m >= b else ((1-π) if b_p >= b > b_m else 1)\n",
    "    for b in range(b_size):\n",
    "        Ed[b] = update(b)\n",
    "    return Ed \n",
    "\n",
    "### Given d_1 update q_1: \n",
    "\n",
    "def update_q(Ed):\n",
    "    q_1 = 1/R * (1 - Ed)\n",
    "    return q_1"
   ]
  },
  {
   "cell_type": "code",
   "execution_count": 6,
   "metadata": {},
   "outputs": [
    {
     "name": "stdout",
     "output_type": "stream",
     "text": [
      "0 62473.999153873636 0.96\n",
      "1 16.586570516146583 0.48\n",
      "1 1.8471860043484218 0.0\n",
      "1 0.3033916234073075 0.0\n",
      "1 0.12626303955114082 0.0\n",
      "1 0.0606062589845493 0.0\n",
      "1 0.029091004312585156 0.0\n",
      "1 0.013963682070041727 0.0\n",
      "1 0.00670256739362074 0.0\n",
      "1 0.003217232348939447 0.0\n",
      "1 0.0015442715274911478 0.0\n",
      "1 0.0007412503331973852 0.0\n",
      "1 0.0003558001599355265 0.0\n",
      "1 0.00017078407676951457 0.0\n",
      "1 8.1976356849367e-05 0.0\n",
      "1 3.93486512884067e-05 0.0\n",
      "1 1.8887352618790487e-05 0.0\n",
      "1 9.065929257978667e-06 0.0\n",
      "1 4.351646044398194e-06 0.0\n",
      "1 2.0887901026611644e-06 0.0\n",
      "1 1.002619249845793e-06 0.0\n",
      "1 4.81257240281252e-07 0.0\n",
      "1 2.310034767916136e-07 0.0\n",
      "1 1.1088167006789718e-07 0.0\n",
      "1 5.3223201845753465e-08 0.0\n",
      "1 2.5547137738612946e-08 0.0\n",
      "1 1.2262626469805582e-08 0.0\n",
      "1 5.886062304227835e-09 0.0\n",
      "1 2.8253097639208136e-09 0.0\n",
      "1 1.3561489708990848e-09 0.0\n",
      "1 6.509530692255794e-10 0.0\n"
     ]
    }
   ],
   "source": [
    "# Iterate until convergence:\n",
    "iter = 0 \n",
    "error_1 = 10\n",
    "error_2 = 10\n",
    "α_q = 1\n",
    "α_vrp = 1 \n",
    "\n",
    "while error_1 > 10e-10 or error_2 > 10e-10:\n",
    "    v_rp_1 = update_vrp(v_rp, q)[0]\n",
    "    b_p = update_vrp(v_rp, q)[1]\n",
    "    E_d = update_Ed(v_rp_1, b_p)\n",
    "    q_1 = update_q(E_d)\n",
    "    error_1 = np.max(np.abs(v_rp - v_rp_1))\n",
    "    error_2 = np.max(np.abs(q_1 - q))\n",
    "    # update:\n",
    "    v_rp = α_vrp * v_rp_1.copy() + (1-α_vrp) * v_rp.copy()\n",
    "    q = α_q *q_1.copy() + (1-α_q) * q.copy()\n",
    "    print(iter, error_1, error_2)\n",
    "    iter =+ 1"
   ]
  },
  {
   "cell_type": "code",
   "execution_count": 9,
   "metadata": {},
   "outputs": [
    {
     "data": {
      "text/plain": [
       "(661, 1000)"
      ]
     },
     "execution_count": 9,
     "metadata": {},
     "output_type": "execute_result"
    }
   ],
   "source": [
    "b_m, b_p"
   ]
  },
  {
   "cell_type": "code",
   "execution_count": 13,
   "metadata": {},
   "outputs": [
    {
     "data": {
      "text/plain": [
       "<function matplotlib.pyplot.show(close=None, block=None)>"
      ]
     },
     "execution_count": 13,
     "metadata": {},
     "output_type": "execute_result"
    },
    {
     "data": {
      "image/png": "[encoded data removed]",
      "text/plain": [
       "<Figure size 640x480 with 1 Axes>"
      ]
     },
     "metadata": {},
     "output_type": "display_data"
    }
   ],
   "source": [
    "plt.plot(b_grid, v_rp)\n",
    "plt.plot(b_grid, v_d * np.ones(b_size))\n",
    "plt.plot(b_grid, v_rm(b_grid))\n",
    "plt.ylim([-60,0])\n",
    "plt.show\n"
   ]
  }
 ],
 "metadata": {
  "kernelspec": {
   "display_name": "Python 3",
   "language": "python",
   "name": "python3"
  },
  "language_info": {
   "codemirror_mode": {
    "name": "ipython",
    "version": 3
   },
   "file_extension": ".py",
   "mimetype": "text/x-python",
   "name": "python",
   "nbconvert_exporter": "python",
   "pygments_lexer": "ipython3",
   "version": "3.10.11"
  },
  "orig_nbformat": 4
 },
 "nbformat": 4,
 "nbformat_minor": 2
}
